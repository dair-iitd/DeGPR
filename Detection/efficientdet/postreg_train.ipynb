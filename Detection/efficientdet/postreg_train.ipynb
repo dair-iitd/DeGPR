{
 "cells": [
  {
   "cell_type": "code",
   "execution_count": 15,
   "metadata": {},
   "outputs": [
    {
     "name": "stdout",
     "output_type": "stream",
     "text": [
      "/home/aayush/anaconda3/envs/Aayush_env/lib/python3.9/site-packages/torch/distributed/launch.py:178: FutureWarning: The module torch.distributed.launch is deprecated\n",
      "and will be removed in future. Use torchrun.\n",
      "Note that --use_env is set by default in torchrun.\n",
      "If your script expects `--local_rank` argument to be set, please\n",
      "change it to read from `os.environ['LOCAL_RANK']` instead. See \n",
      "https://pytorch.org/docs/stable/distributed.html#launch-utility for \n",
      "further instructions\n",
      "\n",
      "  warnings.warn(\n",
      "Training with a single process on 1 GPU.\n",
      "Model efficientdet_d0 created, param count: 3826283\n",
      "Using native Torch AMP. Training in mixed precision.\n",
      "Scheduled epochs: 15\n",
      "/home/aayush/chirag/efficientdet/efficientdet-pytorch/effdet/bench.py:55: UserWarning: __floordiv__ is deprecated, and its behavior will change in a future version of pytorch. It currently rounds toward 0 (like the 'trunc' function NOT 'floor'). This results in incorrect rounding for negative values. To keep the current behavior, use torch.div(a, b, rounding_mode='trunc'), or for actual floor division, use torch.div(a, b, rounding_mode='floor').\n",
      "  indices_all = cls_topk_indices_all // num_classes\n",
      "tensor(2.2384, device='cuda:0', grad_fn=<AddBackward0>) tensor(2.1136)\n",
      "Train: 0 [   0/21 (  0%)]  Loss:  4.352015 (4.3520)  Time: 13.837s,    1.16/s  (13.837s,    1.16/s)  LR: 1.000e-04  Data: 0.821 (0.821)\n",
      "/home/aayush/chirag/efficientdet/efficientdet-pytorch/effdet/bench.py:55: UserWarning: __floordiv__ is deprecated, and its behavior will change in a future version of pytorch. It currently rounds toward 0 (like the 'trunc' function NOT 'floor'). This results in incorrect rounding for negative values. To keep the current behavior, use torch.div(a, b, rounding_mode='trunc'), or for actual floor division, use torch.div(a, b, rounding_mode='floor').\n",
      "  indices_all = cls_topk_indices_all // num_classes\n",
      "tensor(1.8507, device='cuda:0', grad_fn=<AddBackward0>) tensor(3.5608)\n",
      "/home/aayush/chirag/efficientdet/efficientdet-pytorch/effdet/bench.py:55: UserWarning: __floordiv__ is deprecated, and its behavior will change in a future version of pytorch. It currently rounds toward 0 (like the 'trunc' function NOT 'floor'). This results in incorrect rounding for negative values. To keep the current behavior, use torch.div(a, b, rounding_mode='trunc'), or for actual floor division, use torch.div(a, b, rounding_mode='floor').\n",
      "  indices_all = cls_topk_indices_all // num_classes\n",
      "tensor(2.0444, device='cuda:0', grad_fn=<AddBackward0>) tensor(1.2944)\n",
      "/home/aayush/chirag/efficientdet/efficientdet-pytorch/effdet/bench.py:55: UserWarning: __floordiv__ is deprecated, and its behavior will change in a future version of pytorch. It currently rounds toward 0 (like the 'trunc' function NOT 'floor'). This results in incorrect rounding for negative values. To keep the current behavior, use torch.div(a, b, rounding_mode='trunc'), or for actual floor division, use torch.div(a, b, rounding_mode='floor').\n",
      "  indices_all = cls_topk_indices_all // num_classes\n",
      "tensor(2.2395, device='cuda:0', grad_fn=<AddBackward0>) tensor(1.5064)\n",
      "/home/aayush/chirag/efficientdet/efficientdet-pytorch/effdet/bench.py:55: UserWarning: __floordiv__ is deprecated, and its behavior will change in a future version of pytorch. It currently rounds toward 0 (like the 'trunc' function NOT 'floor'). This results in incorrect rounding for negative values. To keep the current behavior, use torch.div(a, b, rounding_mode='trunc'), or for actual floor division, use torch.div(a, b, rounding_mode='floor').\n",
      "  indices_all = cls_topk_indices_all // num_classes\n",
      "tensor(1.9875, device='cuda:0', grad_fn=<AddBackward0>) tensor(3.7357)\n",
      "/home/aayush/chirag/efficientdet/efficientdet-pytorch/effdet/bench.py:55: UserWarning: __floordiv__ is deprecated, and its behavior will change in a future version of pytorch. It currently rounds toward 0 (like the 'trunc' function NOT 'floor'). This results in incorrect rounding for negative values. To keep the current behavior, use torch.div(a, b, rounding_mode='trunc'), or for actual floor division, use torch.div(a, b, rounding_mode='floor').\n",
      "  indices_all = cls_topk_indices_all // num_classes\n",
      "tensor(2.0990, device='cuda:0', grad_fn=<AddBackward0>) tensor(0.8430)\n",
      "/home/aayush/chirag/efficientdet/efficientdet-pytorch/effdet/bench.py:55: UserWarning: __floordiv__ is deprecated, and its behavior will change in a future version of pytorch. It currently rounds toward 0 (like the 'trunc' function NOT 'floor'). This results in incorrect rounding for negative values. To keep the current behavior, use torch.div(a, b, rounding_mode='trunc'), or for actual floor division, use torch.div(a, b, rounding_mode='floor').\n",
      "  indices_all = cls_topk_indices_all // num_classes\n",
      "tensor(1.9190, device='cuda:0', grad_fn=<AddBackward0>) tensor(3.1892)\n",
      "/home/aayush/chirag/efficientdet/efficientdet-pytorch/effdet/bench.py:55: UserWarning: __floordiv__ is deprecated, and its behavior will change in a future version of pytorch. It currently rounds toward 0 (like the 'trunc' function NOT 'floor'). This results in incorrect rounding for negative values. To keep the current behavior, use torch.div(a, b, rounding_mode='trunc'), or for actual floor division, use torch.div(a, b, rounding_mode='floor').\n",
      "  indices_all = cls_topk_indices_all // num_classes\n",
      "tensor(1.7725, device='cuda:0', grad_fn=<AddBackward0>) tensor(2.6764)\n",
      "/home/aayush/chirag/efficientdet/efficientdet-pytorch/effdet/bench.py:55: UserWarning: __floordiv__ is deprecated, and its behavior will change in a future version of pytorch. It currently rounds toward 0 (like the 'trunc' function NOT 'floor'). This results in incorrect rounding for negative values. To keep the current behavior, use torch.div(a, b, rounding_mode='trunc'), or for actual floor division, use torch.div(a, b, rounding_mode='floor').\n",
      "  indices_all = cls_topk_indices_all // num_classes\n",
      "tensor(1.9654, device='cuda:0', grad_fn=<AddBackward0>) tensor(3.3782)\n",
      "/home/aayush/chirag/efficientdet/efficientdet-pytorch/effdet/bench.py:55: UserWarning: __floordiv__ is deprecated, and its behavior will change in a future version of pytorch. It currently rounds toward 0 (like the 'trunc' function NOT 'floor'). This results in incorrect rounding for negative values. To keep the current behavior, use torch.div(a, b, rounding_mode='trunc'), or for actual floor division, use torch.div(a, b, rounding_mode='floor').\n",
      "  indices_all = cls_topk_indices_all // num_classes\n",
      "tensor(1.8821, device='cuda:0', grad_fn=<AddBackward0>) tensor(2.2898)\n",
      "/home/aayush/chirag/efficientdet/efficientdet-pytorch/effdet/bench.py:55: UserWarning: __floordiv__ is deprecated, and its behavior will change in a future version of pytorch. It currently rounds toward 0 (like the 'trunc' function NOT 'floor'). This results in incorrect rounding for negative values. To keep the current behavior, use torch.div(a, b, rounding_mode='trunc'), or for actual floor division, use torch.div(a, b, rounding_mode='floor').\n",
      "  indices_all = cls_topk_indices_all // num_classes\n",
      "tensor(2.0992, device='cuda:0', grad_fn=<AddBackward0>) tensor(3.7409)\n",
      "/home/aayush/chirag/efficientdet/efficientdet-pytorch/effdet/bench.py:55: UserWarning: __floordiv__ is deprecated, and its behavior will change in a future version of pytorch. It currently rounds toward 0 (like the 'trunc' function NOT 'floor'). This results in incorrect rounding for negative values. To keep the current behavior, use torch.div(a, b, rounding_mode='trunc'), or for actual floor division, use torch.div(a, b, rounding_mode='floor').\n",
      "  indices_all = cls_topk_indices_all // num_classes\n",
      "tensor(1.9355, device='cuda:0', grad_fn=<AddBackward0>) tensor(2.7731)\n",
      "/home/aayush/chirag/efficientdet/efficientdet-pytorch/effdet/bench.py:55: UserWarning: __floordiv__ is deprecated, and its behavior will change in a future version of pytorch. It currently rounds toward 0 (like the 'trunc' function NOT 'floor'). This results in incorrect rounding for negative values. To keep the current behavior, use torch.div(a, b, rounding_mode='trunc'), or for actual floor division, use torch.div(a, b, rounding_mode='floor').\n",
      "  indices_all = cls_topk_indices_all // num_classes\n",
      "tensor(1.8674, device='cuda:0', grad_fn=<AddBackward0>) tensor(2.2710)\n",
      "/home/aayush/chirag/efficientdet/efficientdet-pytorch/effdet/bench.py:55: UserWarning: __floordiv__ is deprecated, and its behavior will change in a future version of pytorch. It currently rounds toward 0 (like the 'trunc' function NOT 'floor'). This results in incorrect rounding for negative values. To keep the current behavior, use torch.div(a, b, rounding_mode='trunc'), or for actual floor division, use torch.div(a, b, rounding_mode='floor').\n",
      "  indices_all = cls_topk_indices_all // num_classes\n",
      "tensor(2.2789, device='cuda:0', grad_fn=<AddBackward0>) tensor(2.9772)\n",
      "/home/aayush/chirag/efficientdet/efficientdet-pytorch/effdet/bench.py:55: UserWarning: __floordiv__ is deprecated, and its behavior will change in a future version of pytorch. It currently rounds toward 0 (like the 'trunc' function NOT 'floor'). This results in incorrect rounding for negative values. To keep the current behavior, use torch.div(a, b, rounding_mode='trunc'), or for actual floor division, use torch.div(a, b, rounding_mode='floor').\n",
      "  indices_all = cls_topk_indices_all // num_classes\n",
      "tensor(1.9857, device='cuda:0', grad_fn=<AddBackward0>) tensor(2.1095)\n",
      "/home/aayush/chirag/efficientdet/efficientdet-pytorch/effdet/bench.py:55: UserWarning: __floordiv__ is deprecated, and its behavior will change in a future version of pytorch. It currently rounds toward 0 (like the 'trunc' function NOT 'floor'). This results in incorrect rounding for negative values. To keep the current behavior, use torch.div(a, b, rounding_mode='trunc'), or for actual floor division, use torch.div(a, b, rounding_mode='floor').\n",
      "  indices_all = cls_topk_indices_all // num_classes\n",
      "tensor(2.0491, device='cuda:0', grad_fn=<AddBackward0>) tensor(1.3352)\n",
      "/home/aayush/chirag/efficientdet/efficientdet-pytorch/effdet/bench.py:55: UserWarning: __floordiv__ is deprecated, and its behavior will change in a future version of pytorch. It currently rounds toward 0 (like the 'trunc' function NOT 'floor'). This results in incorrect rounding for negative values. To keep the current behavior, use torch.div(a, b, rounding_mode='trunc'), or for actual floor division, use torch.div(a, b, rounding_mode='floor').\n",
      "  indices_all = cls_topk_indices_all // num_classes\n",
      "tensor(1.9363, device='cuda:0', grad_fn=<AddBackward0>) tensor(4.1466)\n",
      "/home/aayush/chirag/efficientdet/efficientdet-pytorch/effdet/bench.py:55: UserWarning: __floordiv__ is deprecated, and its behavior will change in a future version of pytorch. It currently rounds toward 0 (like the 'trunc' function NOT 'floor'). This results in incorrect rounding for negative values. To keep the current behavior, use torch.div(a, b, rounding_mode='trunc'), or for actual floor division, use torch.div(a, b, rounding_mode='floor').\n",
      "  indices_all = cls_topk_indices_all // num_classes\n",
      "tensor(2.2473, device='cuda:0', grad_fn=<AddBackward0>) tensor(3.1081)\n",
      "/home/aayush/chirag/efficientdet/efficientdet-pytorch/effdet/bench.py:55: UserWarning: __floordiv__ is deprecated, and its behavior will change in a future version of pytorch. It currently rounds toward 0 (like the 'trunc' function NOT 'floor'). This results in incorrect rounding for negative values. To keep the current behavior, use torch.div(a, b, rounding_mode='trunc'), or for actual floor division, use torch.div(a, b, rounding_mode='floor').\n",
      "  indices_all = cls_topk_indices_all // num_classes\n",
      "tensor(1.8436, device='cuda:0', grad_fn=<AddBackward0>) tensor(1.4788)\n",
      "/home/aayush/chirag/efficientdet/efficientdet-pytorch/effdet/bench.py:55: UserWarning: __floordiv__ is deprecated, and its behavior will change in a future version of pytorch. It currently rounds toward 0 (like the 'trunc' function NOT 'floor'). This results in incorrect rounding for negative values. To keep the current behavior, use torch.div(a, b, rounding_mode='trunc'), or for actual floor division, use torch.div(a, b, rounding_mode='floor').\n",
      "  indices_all = cls_topk_indices_all // num_classes\n",
      "tensor(1.8477, device='cuda:0', grad_fn=<AddBackward0>) tensor(3.3401)\n",
      "/home/aayush/chirag/efficientdet/efficientdet-pytorch/effdet/bench.py:55: UserWarning: __floordiv__ is deprecated, and its behavior will change in a future version of pytorch. It currently rounds toward 0 (like the 'trunc' function NOT 'floor'). This results in incorrect rounding for negative values. To keep the current behavior, use torch.div(a, b, rounding_mode='trunc'), or for actual floor division, use torch.div(a, b, rounding_mode='floor').\n",
      "  indices_all = cls_topk_indices_all // num_classes\n",
      "tensor(1.6578, device='cuda:0', grad_fn=<AddBackward0>) tensor(3.7523)\n",
      "^C\n",
      "WARNING:torch.distributed.elastic.agent.server.api:Received 2 death signal, shutting down workers\n",
      "WARNING:torch.distributed.elastic.multiprocessing.api:Sending process 6628 closing signal SIGINT\n"
     ]
    }
   ],
   "source": [
    "! ./distributed_train.sh 1 /home/aayush/Aayush/Projects/Celiac_Disease/Detection/Baselines/Dataset/voc_kfold/0/train_val/ --model efficientdet_d0 --dataset voc2007 -b 16 --amp --lr 0.008 --sync-bn --opt momentum --warmup-epochs 3 --model-ema --model-ema-decay 0.9966 --epochs 5 --num-classes 2 --pretrained"
   ]
  }
 ],
 "metadata": {
  "kernelspec": {
   "display_name": "Python 3.9.7 ('Aayush_env')",
   "language": "python",
   "name": "python3"
  },
  "language_info": {
   "codemirror_mode": {
    "name": "ipython",
    "version": 3
   },
   "file_extension": ".py",
   "mimetype": "text/x-python",
   "name": "python",
   "nbconvert_exporter": "python",
   "pygments_lexer": "ipython3",
   "version": "3.9.7"
  },
  "orig_nbformat": 4,
  "vscode": {
   "interpreter": {
    "hash": "d9ec5adecabf793b29c2eaf5e84e2b0b3fecf83a2ffca1bdfb7b60e7ff0a4545"
   }
  }
 },
 "nbformat": 4,
 "nbformat_minor": 2
}
